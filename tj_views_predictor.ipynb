{
 "cells": [
  {
   "cell_type": "code",
   "execution_count": 41,
   "metadata": {},
   "outputs": [],
   "source": [
    "import json\n",
    "import datetime\n",
    "import numpy as np\n",
    "import pandas as pd\n",
    "import snowballstemmer\n",
    "from bs4 import BeautifulSoup\n",
    "import itertools\n",
    "\n",
    "from scipy.sparse import csr_matrix, hstack\n",
    "from sklearn.feature_extraction.text import TfidfTransformer, CountVectorizer\n",
    "from sklearn.cross_validation import train_test_split\n",
    "from sklearn.decomposition import LatentDirichletAllocation\n",
    "from gensim.models import Word2Vec\n",
    "import lightgbm as lgb\n",
    "from sklearn.metrics import r2_score, mean_absolute_error\n",
    "\n",
    "import seaborn as sns\n",
    "import  matplotlib.pyplot as plt\n",
    "\n",
    "%matplotlib inline"
   ]
  },
  {
   "cell_type": "code",
   "execution_count": 2,
   "metadata": {
    "collapsed": true
   },
   "outputs": [],
   "source": [
    "dataframe = pd.read_json(\"tj_site.json\")\n",
    "dataframe.index = range(dataframe.shape[0])"
   ]
  },
  {
   "cell_type": "code",
   "execution_count": 70,
   "metadata": {},
   "outputs": [
    {
     "data": {
      "text/html": [
       "<div>\n",
       "<table border=\"1\" class=\"dataframe\">\n",
       "  <thead>\n",
       "    <tr style=\"text-align: right;\">\n",
       "      <th></th>\n",
       "      <th>article</th>\n",
       "      <th>comments</th>\n",
       "      <th>date</th>\n",
       "      <th>hits</th>\n",
       "      <th>rating</th>\n",
       "      <th>title</th>\n",
       "      <th>month</th>\n",
       "      <th>time</th>\n",
       "      <th>day</th>\n",
       "      <th>year</th>\n",
       "      <th>...</th>\n",
       "      <th>links_count</th>\n",
       "      <th>youtube_count</th>\n",
       "      <th>tweets_count</th>\n",
       "      <th>tags_count</th>\n",
       "      <th>p_count</th>\n",
       "      <th>text_sizes</th>\n",
       "      <th>text_sizes_mean</th>\n",
       "      <th>text_sizes_std</th>\n",
       "      <th>text_words_count</th>\n",
       "      <th>title_words_count</th>\n",
       "    </tr>\n",
       "  </thead>\n",
       "  <tbody>\n",
       "    <tr>\n",
       "      <th>0</th>\n",
       "      <td>&lt;article&gt;\\n&lt;p&gt;Казачьим обществом «ИРБИС» в Пет...</td>\n",
       "      <td>3</td>\n",
       "      <td>18 ноября 2014, 20:28</td>\n",
       "      <td>301</td>\n",
       "      <td>7</td>\n",
       "      <td>Репротаж из православной парикмахерской Петерб...</td>\n",
       "      <td>11</td>\n",
       "      <td>1228</td>\n",
       "      <td>18</td>\n",
       "      <td>2014</td>\n",
       "      <td>...</td>\n",
       "      <td>1</td>\n",
       "      <td>0</td>\n",
       "      <td>0</td>\n",
       "      <td>5</td>\n",
       "      <td>1</td>\n",
       "      <td>[33]</td>\n",
       "      <td>33.0</td>\n",
       "      <td>0.0</td>\n",
       "      <td>33</td>\n",
       "      <td>5</td>\n",
       "    </tr>\n",
       "    <tr>\n",
       "      <th>1</th>\n",
       "      <td>&lt;article&gt;\\n&lt;a class=\"link-widget\" href=\"http:/...</td>\n",
       "      <td>0</td>\n",
       "      <td>18 ноября 2014, 20:34</td>\n",
       "      <td>262</td>\n",
       "      <td>5</td>\n",
       "      <td>Whats App стал безопаснее на Android</td>\n",
       "      <td>11</td>\n",
       "      <td>1234</td>\n",
       "      <td>18</td>\n",
       "      <td>2014</td>\n",
       "      <td>...</td>\n",
       "      <td>1</td>\n",
       "      <td>1</td>\n",
       "      <td>0</td>\n",
       "      <td>15</td>\n",
       "      <td>2</td>\n",
       "      <td>[0, 27]</td>\n",
       "      <td>13.5</td>\n",
       "      <td>13.5</td>\n",
       "      <td>27</td>\n",
       "      <td>3</td>\n",
       "    </tr>\n",
       "    <tr>\n",
       "      <th>2</th>\n",
       "      <td>&lt;article&gt;\\n&lt;a class=\"link-widget\" href=\"http:/...</td>\n",
       "      <td>1</td>\n",
       "      <td>18 ноября 2014, 22:39</td>\n",
       "      <td>99</td>\n",
       "      <td>4</td>\n",
       "      <td>Ловкие руки Марселя</td>\n",
       "      <td>11</td>\n",
       "      <td>1359</td>\n",
       "      <td>18</td>\n",
       "      <td>2014</td>\n",
       "      <td>...</td>\n",
       "      <td>-1</td>\n",
       "      <td>1</td>\n",
       "      <td>0</td>\n",
       "      <td>13</td>\n",
       "      <td>2</td>\n",
       "      <td>[0, 37]</td>\n",
       "      <td>18.5</td>\n",
       "      <td>18.5</td>\n",
       "      <td>37</td>\n",
       "      <td>3</td>\n",
       "    </tr>\n",
       "    <tr>\n",
       "      <th>3</th>\n",
       "      <td>&lt;article&gt;\\n&lt;p&gt;Чо как дела ребят&lt;/p&gt;\\n&lt;/article&gt;</td>\n",
       "      <td>10</td>\n",
       "      <td>19 ноября 2014, 16:06</td>\n",
       "      <td>291</td>\n",
       "      <td>-32</td>\n",
       "      <td>Оплатил 100 рублей</td>\n",
       "      <td>11</td>\n",
       "      <td>966</td>\n",
       "      <td>19</td>\n",
       "      <td>2014</td>\n",
       "      <td>...</td>\n",
       "      <td>0</td>\n",
       "      <td>0</td>\n",
       "      <td>0</td>\n",
       "      <td>4</td>\n",
       "      <td>1</td>\n",
       "      <td>[4]</td>\n",
       "      <td>4.0</td>\n",
       "      <td>0.0</td>\n",
       "      <td>4</td>\n",
       "      <td>2</td>\n",
       "    </tr>\n",
       "    <tr>\n",
       "      <th>4</th>\n",
       "      <td>&lt;article&gt;\\n&lt;p&gt;Лихачев няшка. Ваши мнения? &lt;/p&gt;...</td>\n",
       "      <td>37</td>\n",
       "      <td>19 ноября 2014, 16:09</td>\n",
       "      <td>846</td>\n",
       "      <td>29</td>\n",
       "      <td>Давайте здесь обсуждать Лихачева</td>\n",
       "      <td>11</td>\n",
       "      <td>969</td>\n",
       "      <td>19</td>\n",
       "      <td>2014</td>\n",
       "      <td>...</td>\n",
       "      <td>0</td>\n",
       "      <td>0</td>\n",
       "      <td>0</td>\n",
       "      <td>4</td>\n",
       "      <td>1</td>\n",
       "      <td>[4]</td>\n",
       "      <td>4.0</td>\n",
       "      <td>0.0</td>\n",
       "      <td>4</td>\n",
       "      <td>4</td>\n",
       "    </tr>\n",
       "  </tbody>\n",
       "</table>\n",
       "<p>5 rows × 29 columns</p>\n",
       "</div>"
      ],
      "text/plain": [
       "                                             article  comments  \\\n",
       "0  <article>\\n<p>Казачьим обществом «ИРБИС» в Пет...         3   \n",
       "1  <article>\\n<a class=\"link-widget\" href=\"http:/...         0   \n",
       "2  <article>\\n<a class=\"link-widget\" href=\"http:/...         1   \n",
       "3    <article>\\n<p>Чо как дела ребят</p>\\n</article>        10   \n",
       "4  <article>\\n<p>Лихачев няшка. Ваши мнения? </p>...        37   \n",
       "\n",
       "                    date  hits  rating  \\\n",
       "0  18 ноября 2014, 20:28   301       7   \n",
       "1  18 ноября 2014, 20:34   262       5   \n",
       "2  18 ноября 2014, 22:39    99       4   \n",
       "3  19 ноября 2014, 16:06   291     -32   \n",
       "4  19 ноября 2014, 16:09   846      29   \n",
       "\n",
       "                                               title  month  time  day  year  \\\n",
       "0  Репротаж из православной парикмахерской Петерб...     11  1228   18  2014   \n",
       "1               Whats App стал безопаснее на Android     11  1234   18  2014   \n",
       "2                                Ловкие руки Марселя     11  1359   18  2014   \n",
       "3                                 Оплатил 100 рублей     11   966   19  2014   \n",
       "4                   Давайте здесь обсуждать Лихачева     11   969   19  2014   \n",
       "\n",
       "         ...          links_count youtube_count tweets_count tags_count  \\\n",
       "0        ...                    1             0            0          5   \n",
       "1        ...                    1             1            0         15   \n",
       "2        ...                   -1             1            0         13   \n",
       "3        ...                    0             0            0          4   \n",
       "4        ...                    0             0            0          4   \n",
       "\n",
       "  p_count text_sizes  text_sizes_mean  text_sizes_std  text_words_count  \\\n",
       "0       1       [33]             33.0             0.0                33   \n",
       "1       2    [0, 27]             13.5            13.5                27   \n",
       "2       2    [0, 37]             18.5            18.5                37   \n",
       "3       1        [4]              4.0             0.0                 4   \n",
       "4       1        [4]              4.0             0.0                 4   \n",
       "\n",
       "   title_words_count  \n",
       "0                  5  \n",
       "1                  3  \n",
       "2                  3  \n",
       "3                  2  \n",
       "4                  4  \n",
       "\n",
       "[5 rows x 29 columns]"
      ]
     },
     "execution_count": 70,
     "metadata": {},
     "output_type": "execute_result"
    }
   ],
   "source": [
    "dataframe.head()"
   ]
  },
  {
   "cell_type": "code",
   "execution_count": 3,
   "metadata": {
    "collapsed": true
   },
   "outputs": [],
   "source": [
    "def get_time(x):\n",
    "    time = x.split()[-1]\n",
    "    h, m = time.split(\":\")\n",
    "    return int(h)*60 + int(m)\n",
    "\n",
    "m_keys = {\n",
    "    'января': 1,\n",
    "    'февраля': 2,\n",
    "    'марта': 3,\n",
    "    'апреля': 4,\n",
    "    'мая': 5,\n",
    "    'июня': 6,\n",
    "    'июля': 7,\n",
    "    'августа': 8,\n",
    "    'сентября': 9,\n",
    "    'октября': 10,\n",
    "    'ноября': 11,\n",
    "    'декабря': 12,\n",
    "}"
   ]
  },
  {
   "cell_type": "code",
   "execution_count": 4,
   "metadata": {
    "collapsed": true
   },
   "outputs": [],
   "source": [
    "dataframe['month'] = dataframe.date.apply(lambda x: m_keys[x.split()[1]])\n",
    "dataframe['time'] = dataframe.date.apply(get_time)\n",
    "dataframe['day'] = dataframe.date.apply(lambda x: int(x.split()[0]))\n",
    "dataframe['year'] = dataframe.date.apply(lambda x: int(x.split()[2][:-1]))\n",
    "dataframe[\"weekday\"] = dataframe[[\"year\", \"month\", \"day\"]].apply(lambda x: datetime.date(*x).weekday(), axis=1)"
   ]
  },
  {
   "cell_type": "code",
   "execution_count": 5,
   "metadata": {
    "collapsed": true
   },
   "outputs": [],
   "source": [
    "stemmer = snowballstemmer.RussianStemmer()\n",
    "rus_chars = set([chr(i) for i in range(1072, 1104)])\n",
    "\n",
    "def tokenize_sent(sent):\n",
    "    sent = sent.lower()\n",
    "    sent = \"\".join([i if i in rus_chars else \" \" for i in sent])\n",
    "    words = stemmer.stemWords(sent.split())\n",
    "    return words"
   ]
  },
  {
   "cell_type": "code",
   "execution_count": 6,
   "metadata": {
    "collapsed": true
   },
   "outputs": [],
   "source": [
    "def get_p_data(article):\n",
    "    html = BeautifulSoup(article, \"lxml\")\n",
    "    data = html.findAll(\"p\")\n",
    "    return [i.text for i in data]\n",
    "\n",
    "def get_p_count(article):\n",
    "    html = BeautifulSoup(article, \"lxml\")\n",
    "    data = html.findAll(\"p\")\n",
    "    return len(data)\n",
    "\n",
    "def get_p_sizes(article):\n",
    "    html = BeautifulSoup(article, \"lxml\")\n",
    "    data = html.findAll(\"p\")\n",
    "    return [len(preprocess_sent(i.text)) for i in data]\n",
    "\n",
    "def get_tags_count(article):\n",
    "    html = BeautifulSoup(article, \"lxml\")\n",
    "    data = html.findAll()\n",
    "    return len(data)\n",
    "\n",
    "def mean_p(x):\n",
    "    if not len(x):\n",
    "        return -9999\n",
    "    return np.mean(x)\n",
    "\n",
    "def std_p(x):\n",
    "    if not len(x):\n",
    "        return -9999\n",
    "    return np.std(x)"
   ]
  },
  {
   "cell_type": "code",
   "execution_count": 7,
   "metadata": {
    "collapsed": true,
    "scrolled": true
   },
   "outputs": [],
   "source": [
    "dataframe['p_list'] = dataframe.article.apply(get_p_data)\n",
    "dataframe['text_chained'] = dataframe.p_list.apply(lambda x: \"\\n\".join(x))\n",
    "\n",
    "dataframe['p_list_tokenized'] = dataframe.p_list.apply(lambda x: [tokenize_sent(i) for i in x])\n",
    "dataframe['p_list_tokenized_joined'] = dataframe.p_list_tokenized.apply(lambda x: list(itertools.chain(*x)))\n",
    "dataframe['title_tokenized'] = dataframe.title.apply(tokenize_sent)\n",
    "\n",
    "dataframe['images_count'] = dataframe.article.apply(lambda x: x.count(\"wrapper-image\"))\n",
    "dataframe['wide_labels_count'] = dataframe.article.apply(lambda x: x.count(\"wrapper-wide\"))\n",
    "dataframe['link_widget_count'] = dataframe.article.apply(lambda x: x.count(\"link-widget\"))\n",
    "dataframe['links_count'] = dataframe.article.apply(lambda x: x.count(\"a href\")) - \\\n",
    "    (dataframe.images_count + dataframe.link_widget_count)\n",
    "dataframe['youtube_count'] = dataframe.article.apply(lambda x: x.count(\"wrapper-video\"))\n",
    "dataframe['tweets_count'] = dataframe.article.apply(lambda x: x.count(\"wrapper-tweet\"))\n",
    "dataframe[\"tags_count\"] = dataframe.article.apply(get_tags_count)\n",
    "dataframe[\"p_count\"] = dataframe.p_list.apply(len)\n",
    "dataframe[\"text_sizes\"] = dataframe.p_list_tokenized.apply(lambda x: [len(i) for i in x])\n",
    "dataframe[\"text_sizes_mean\"] = dataframe.text_sizes.apply(mean_p)\n",
    "dataframe[\"text_sizes_std\"] = dataframe.text_sizes.apply(std_p)\n",
    "dataframe[\"text_words_count\"] = dataframe.p_list_tokenized.apply(lambda x: len(list(itertools.chain(*x))))\n",
    "dataframe[\"title_words_count\"] = dataframe.title_tokenized.apply(lambda x: len(x))"
   ]
  },
  {
   "cell_type": "code",
   "execution_count": 8,
   "metadata": {
    "collapsed": true
   },
   "outputs": [],
   "source": [
    "count_vec = CountVectorizer(tokenizer = tokenize_sent, min_df=10, max_df=0.95)\n",
    "text_count_vec = count_vec.fit_transform(dataframe.text_chained)\n",
    "text_tfidf_vec = TfidfTransformer().fit_transform(text_count_vec).toarray()\n",
    "\n",
    "lda_features = []\n",
    "topic_counts = [10, 20, 50]\n",
    "for topics in topic_counts:\n",
    "    lda = LatentDirichletAllocation(topics, n_jobs=7, learning_method=\"batch\")\n",
    "    feats = lda.fit_transform(text_count_vec)\n",
    "    lda_features.append(feats)\n",
    "\n",
    "lda_features = np.concatenate(lda_features, axis=1)"
   ]
  },
  {
   "cell_type": "code",
   "execution_count": 10,
   "metadata": {},
   "outputs": [],
   "source": [
    "w2v = Word2Vec(dataframe.p_list_tokenized_joined, size=300, workers=7, min_count=5)\n",
    "w2v_dict = {key:w2v.wv.syn0[val.index] for key, val in w2v.wv.vocab.items()}\n",
    "\n",
    "vectors = list(w2v_dict.values())\n",
    "words = list(w2v_dict.keys())"
   ]
  },
  {
   "cell_type": "code",
   "execution_count": 12,
   "metadata": {
    "collapsed": true
   },
   "outputs": [],
   "source": [
    "from sklearn.cluster import KMeans\n",
    "\n",
    "kmeans = []\n",
    "clusters_counts = [10, 50, 100, 500, 1000]\n",
    "for clusters in clusters_counts:\n",
    "    kmeans.append(KMeans(clusters, precompute_distances=True, n_jobs=7).fit(vectors))"
   ]
  },
  {
   "cell_type": "code",
   "execution_count": 13,
   "metadata": {
    "collapsed": true
   },
   "outputs": [],
   "source": [
    "word_mappings = []\n",
    "for kmean in kmeans:\n",
    "    labels = kmean.labels_\n",
    "    word_mappings.append(dict(zip(words, labels)))"
   ]
  },
  {
   "cell_type": "code",
   "execution_count": 14,
   "metadata": {
    "collapsed": true
   },
   "outputs": [],
   "source": [
    "words_set = set(words)"
   ]
  },
  {
   "cell_type": "code",
   "execution_count": 15,
   "metadata": {
    "collapsed": true
   },
   "outputs": [],
   "source": [
    "def get_mean_vec(sent):\n",
    "    matrix = [w2v_dict[i] for i in sent if i in words_set]\n",
    "    if not matrix:\n",
    "        return np.full((300,), -9999)\n",
    "    return np.mean(matrix, axis=0)\n",
    "\n",
    "def get_centroids_vec(sent):\n",
    "    words = [i for i in sent if i in words_set]\n",
    "    if not words:\n",
    "        return np.full((sum(clusters_counts),), -9999)\n",
    "    result_total = np.asarray([])\n",
    "    for cnt, mapper in zip(clusters_counts, word_mappings):\n",
    "        result = np.zeros((cnt, ))\n",
    "        for word in words:\n",
    "            result[mapper[word]] += 1\n",
    "        result_total = np.concatenate([result_total, result])\n",
    "    return result_total"
   ]
  },
  {
   "cell_type": "code",
   "execution_count": 16,
   "metadata": {
    "collapsed": true
   },
   "outputs": [],
   "source": [
    "mean_texts = np.asarray([get_mean_vec(s) for s in dataframe.p_list_tokenized_joined.tolist()])\n",
    "mean_titles = np.asarray([get_mean_vec(s) for s in dataframe.title_tokenized.tolist()])\n",
    "clusters_texts = np.asarray([get_centroids_vec(s) for s in dataframe.p_list_tokenized_joined.tolist()])\n",
    "clusters_titles = np.asarray([get_centroids_vec(s) for s in dataframe.title_tokenized.tolist()])"
   ]
  },
  {
   "cell_type": "code",
   "execution_count": 17,
   "metadata": {
    "collapsed": true
   },
   "outputs": [],
   "source": [
    "feats = [\"time\", \"day\", \"weekday\", \"month\",\n",
    "         \"images_count\", \"wide_labels_count\",\n",
    "         \"link_widget_count\", \"links_count\",\n",
    "         \"youtube_count\", \"tweets_count\",\n",
    "         \"tags_count\", \"p_count\", \"text_sizes_mean\",\n",
    "         \"text_sizes_std\", \"text_words_count\",\n",
    "         \"title_words_count\"]\n",
    "X = dataframe[feats].as_matrix()"
   ]
  },
  {
   "cell_type": "code",
   "execution_count": 18,
   "metadata": {
    "collapsed": true
   },
   "outputs": [],
   "source": [
    "preprocessed_df = np.concatenate([X, lda_features, mean_texts, mean_titles, clusters_texts, clusters_titles], axis=1)"
   ]
  },
  {
   "cell_type": "code",
   "execution_count": 21,
   "metadata": {
    "collapsed": true
   },
   "outputs": [],
   "source": [
    "\n",
    "preprocessed_df = csr_matrix(preprocessed_df)"
   ]
  },
  {
   "cell_type": "code",
   "execution_count": 22,
   "metadata": {
    "collapsed": true
   },
   "outputs": [],
   "source": [
    "full_df = hstack([preprocessed_df, text_tfidf_vec]).tocsr()"
   ]
  },
  {
   "cell_type": "code",
   "execution_count": 26,
   "metadata": {},
   "outputs": [],
   "source": [
    "hits_y = dataframe.hits\n",
    "\n",
    "step = 200\n",
    "new_hits = []\n",
    "for i in range(step, dataframe.shape[0]):\n",
    "    hits = hits_y.iloc[i-step: i+1]\n",
    "    perc_high = np.percentile(hits, 99)\n",
    "    perc_low = np.percentile(hits, 1)\n",
    "    hits = hits[(hits > perc_low)&(hits < perc_high)]\n",
    "    mean = hits.mean()\n",
    "    std = hits.std()\n",
    "    val = max(min(hits_y.iloc[i], perc_high), perc_low)\n",
    "    new_hits.append((val - mean)/std)\n",
    "    \n",
    "hits_y = np.asarray(new_hits)\n",
    "full_df = full_df[step:]"
   ]
  },
  {
   "cell_type": "code",
   "execution_count": 27,
   "metadata": {
    "collapsed": true
   },
   "outputs": [],
   "source": [
    "min_val = hits_y.min()\n",
    "hits_log = np.log(hits_y - min_val+1e-6)"
   ]
  },
  {
   "cell_type": "code",
   "execution_count": 54,
   "metadata": {},
   "outputs": [],
   "source": [
    "X_train, X_test, y_train, y_test = train_test_split(full_df, hits_log, test_size=0.2, random_state=1337)"
   ]
  },
  {
   "cell_type": "code",
   "execution_count": 58,
   "metadata": {},
   "outputs": [],
   "source": [
    "features = (feats +\n",
    "    list(itertools.chain(*[[f\"lda_{lda}_{i}\" for i in range(lda)] for lda in topic_counts])) + \n",
    "    [f\"mean_matrix_body_{i}\" for i in range(300)] + \n",
    "    [f\"mean_matrix_title_{i}\" for i in range(300)] + \n",
    "    list(itertools.chain(*[[f\"clusters_body_{i}_{j}\" for j in range(i)] for i in clusters_counts])) +\n",
    "    list(itertools.chain(*[[f\"clusters_title_{i}_{j}\" for j in range(i)] for i in clusters_counts])) +\n",
    "    [f\"tf_idf_{i}\" for i in range(text_tfidf_vec.shape[1])]\n",
    ")\n",
    "train_data = lgb.Dataset(X_train, label=y_train, feature_name=features)\n",
    "test_data = train_data.create_valid(X_test, label=y_test)\n",
    "#full_data = lgb.Dataset(preprocessed_df, label=dataframe.new_hits2, feature_name=feature_columns)"
   ]
  },
  {
   "cell_type": "code",
   "execution_count": 63,
   "metadata": {
    "scrolled": true
   },
    }
   ],
   "source": [
    "param = {'num_trees': 100000, 'application':'regression',\n",
    "         'learning_rate': 0.01, 'num_threads': 7, 'max_depth': 10,\n",
    "         'lambda_l2': 1e-3}\n",
    "param['metric'] = 'mae'\n",
    "\n",
    "bst = lgb.train(param, train_data, param['num_trees'], valid_sets=[test_data], early_stopping_rounds=50)"
   ],
   "outputs": []
  },
  {
   "cell_type": "code",
   "execution_count": 64,
   "metadata": {},
   "outputs": [
    {
     "name": "stdout",
     "output_type": "stream",
     "text": [
      "r2 score = 0.3166155559972065\n",
      "mae error = 0.4209721870443455\n"
     ]
    }
   ],
   "source": [
    "predictions = bst.predict(X_test)\n",
    "print(\"r2 score = {}\".format(r2_score(y_test, predictions)))\n",
    "print(\"mae error = {}\".format(mean_absolute_error(y_test, predictions)))"
   ]
  },
  {
   "cell_type": "code",
   "execution_count": 66,
   "metadata": {
    "scrolled": true
   },
   "outputs": [
    {
     "name": "stdout",
     "output_type": "stream",
     "text": [
      "Feature 'tags_count', importance=546\n",
      "Feature 'month', importance=510\n",
      "Feature 'weekday', importance=431\n",
      "Feature 'images_count', importance=377\n",
      "Feature 'lda_20_6', importance=332\n",
      "Feature 'time', importance=316\n",
      "Feature 'wide_labels_count', importance=291\n",
      "Feature 'lda_50_48', importance=227\n",
      "Feature 'text_sizes_std', importance=215\n",
      "Feature 'mean_matrix_title_134', importance=174\n",
      "Feature 'title_words_count', importance=161\n",
      "Feature 'text_sizes_mean', importance=160\n",
      "Feature 'lda_20_15', importance=149\n",
      "Feature 'mean_matrix_body_262', importance=142\n",
      "Feature 'mean_matrix_body_194', importance=141\n",
      "Feature 'mean_matrix_title_115', importance=138\n",
      "Feature 'mean_matrix_body_61', importance=136\n",
      "Feature 'mean_matrix_title_13', importance=136\n",
      "Feature 'tf_idf_1427', importance=132\n",
      "Feature 'lda_10_1', importance=130\n"
     ]
    }
   ],
   "source": [
    "importance = sorted(zip(features, bst.feature_importance()), key=lambda x: x[1], reverse=True)\n",
    "for imp in importance[:20]: print(\"Feature '{}', importance={}\".format(*imp))"
   ]
  },
  {
   "cell_type": "code",
   "execution_count": 68,
   "metadata": {
    "scrolled": true
   },
   "outputs": [
    {
     "data": {
      "text/plain": [
       "<matplotlib.axes._subplots.AxesSubplot at 0x7f72d653d278>"
      ]
     },
     "execution_count": 68,
     "metadata": {},
     "output_type": "execute_result"
    },
    {
     "data": {
      "image/png": "iVBORw0KGgoAAAANSUhEUgAAB4gAAAOTCAYAAABNeF4UAAAABHNCSVQICAgIfAhkiAAAAAlwSFlz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\nRkJADAAAAAAAADASAmIAAAAAAACAkfh/pSN3cQO1a1MAAAAASUVORK5CYII=\n",
      "text/plain": [
       "<matplotlib.figure.Figure at 0x7f72d65466a0>"
      ]
     },
     "metadata": {},
     "output_type": "display_data"
    }
   ],
   "source": [
    "plt.figure(figsize=(32, 16))\n",
    "importance_table = pd.DataFrame([{\"imp\": imp, \"feat\": feat} for feat, imp in importance])\n",
    "sns.barplot(x=\"imp\", y=\"feat\", data=importance_table.iloc[:20])"
   ]
  }
 ],
 "metadata": {
  "kernelspec": {
   "display_name": "Python 3",
   "language": "python",
   "name": "python3"
  },
  "language_info": {
   "codemirror_mode": {
    "name": "ipython",
    "version": 3
   },
   "file_extension": ".py",
   "mimetype": "text/x-python",
   "name": "python",
   "nbconvert_exporter": "python",
   "pygments_lexer": "ipython3",
   "version": "3.6.1"
  }
 },
 "nbformat": 4,
 "nbformat_minor": 1
}
